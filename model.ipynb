{
 "cells": [
  {
   "cell_type": "code",
   "execution_count": 1,
   "id": "4fd4ed01-cd49-474b-aaf3-9b60bc00296b",
   "metadata": {},
   "outputs": [],
   "source": [
    "import pandas as pd\n",
    "import sklearn\n",
    "from sklearn.tree import DecisionTreeClassifier\n",
    "from sklearn import metrics\n",
    "from sklearn.model_selection import train_test_split\n",
    "from sklearn.neighbors import KNeighborsClassifier\n",
    "from sklearn.ensemble import RandomForestClassifier\n",
    "from sklearn.ensemble import VotingClassifier\n",
    "from sklearn.svm import SVC\n",
    "from sklearn.ensemble import AdaBoostClassifier"
   ]
  },
  {
   "cell_type": "code",
   "execution_count": 2,
   "id": "4fd1c5a8-0d72-40c3-a48e-058ca110f660",
   "metadata": {},
   "outputs": [],
   "source": [
    "import matplotlib.pyplot as plt"
   ]
  },
  {
   "cell_type": "code",
   "execution_count": 3,
   "id": "b8225917-d83d-4bb7-8b63-0869380303ae",
   "metadata": {},
   "outputs": [],
   "source": [
    "data=pd.read_csv('datapoints.csv')"
   ]
  },
  {
   "cell_type": "code",
   "execution_count": 4,
   "id": "70395d46-fd3d-48d3-8751-9f3be40d6b0c",
   "metadata": {},
   "outputs": [
    {
     "data": {
      "text/html": [
       "<div>\n",
       "<style scoped>\n",
       "    .dataframe tbody tr th:only-of-type {\n",
       "        vertical-align: middle;\n",
       "    }\n",
       "\n",
       "    .dataframe tbody tr th {\n",
       "        vertical-align: top;\n",
       "    }\n",
       "\n",
       "    .dataframe thead th {\n",
       "        text-align: right;\n",
       "    }\n",
       "</style>\n",
       "<table border=\"1\" class=\"dataframe\">\n",
       "  <thead>\n",
       "    <tr style=\"text-align: right;\">\n",
       "      <th></th>\n",
       "      <th>correct_red</th>\n",
       "      <th>correct_green</th>\n",
       "      <th>correct_blue</th>\n",
       "      <th>rotten_red</th>\n",
       "      <th>rotten_green</th>\n",
       "      <th>rotten_blue</th>\n",
       "      <th>len_correct_part</th>\n",
       "      <th>len_rotten_part</th>\n",
       "      <th>class_fruit</th>\n",
       "    </tr>\n",
       "  </thead>\n",
       "  <tbody>\n",
       "    <tr>\n",
       "      <th>0</th>\n",
       "      <td>102.145310</td>\n",
       "      <td>71.650220</td>\n",
       "      <td>60.076356</td>\n",
       "      <td>198.525260</td>\n",
       "      <td>166.334273</td>\n",
       "      <td>132.852773</td>\n",
       "      <td>821558</td>\n",
       "      <td>357782</td>\n",
       "      <td>D</td>\n",
       "    </tr>\n",
       "    <tr>\n",
       "      <th>1</th>\n",
       "      <td>108.120346</td>\n",
       "      <td>72.055859</td>\n",
       "      <td>42.050057</td>\n",
       "      <td>179.390083</td>\n",
       "      <td>153.556705</td>\n",
       "      <td>93.620471</td>\n",
       "      <td>614371</td>\n",
       "      <td>372130</td>\n",
       "      <td>D</td>\n",
       "    </tr>\n",
       "    <tr>\n",
       "      <th>2</th>\n",
       "      <td>130.237985</td>\n",
       "      <td>96.829654</td>\n",
       "      <td>55.391238</td>\n",
       "      <td>192.464646</td>\n",
       "      <td>175.431464</td>\n",
       "      <td>99.668104</td>\n",
       "      <td>423478</td>\n",
       "      <td>188946</td>\n",
       "      <td>D</td>\n",
       "    </tr>\n",
       "    <tr>\n",
       "      <th>3</th>\n",
       "      <td>129.862173</td>\n",
       "      <td>96.989188</td>\n",
       "      <td>56.645207</td>\n",
       "      <td>192.207514</td>\n",
       "      <td>175.279996</td>\n",
       "      <td>102.596184</td>\n",
       "      <td>370300</td>\n",
       "      <td>172199</td>\n",
       "      <td>D</td>\n",
       "    </tr>\n",
       "    <tr>\n",
       "      <th>4</th>\n",
       "      <td>131.482108</td>\n",
       "      <td>97.975687</td>\n",
       "      <td>67.411966</td>\n",
       "      <td>188.653318</td>\n",
       "      <td>172.598243</td>\n",
       "      <td>110.955419</td>\n",
       "      <td>1457828</td>\n",
       "      <td>688407</td>\n",
       "      <td>D</td>\n",
       "    </tr>\n",
       "    <tr>\n",
       "      <th>...</th>\n",
       "      <td>...</td>\n",
       "      <td>...</td>\n",
       "      <td>...</td>\n",
       "      <td>...</td>\n",
       "      <td>...</td>\n",
       "      <td>...</td>\n",
       "      <td>...</td>\n",
       "      <td>...</td>\n",
       "      <td>...</td>\n",
       "    </tr>\n",
       "    <tr>\n",
       "      <th>665</th>\n",
       "      <td>153.179112</td>\n",
       "      <td>89.003745</td>\n",
       "      <td>36.146932</td>\n",
       "      <td>231.986014</td>\n",
       "      <td>174.261103</td>\n",
       "      <td>74.694848</td>\n",
       "      <td>1150758</td>\n",
       "      <td>993652</td>\n",
       "      <td>A</td>\n",
       "    </tr>\n",
       "    <tr>\n",
       "      <th>666</th>\n",
       "      <td>152.928633</td>\n",
       "      <td>88.469579</td>\n",
       "      <td>35.708979</td>\n",
       "      <td>231.169090</td>\n",
       "      <td>173.407067</td>\n",
       "      <td>73.115444</td>\n",
       "      <td>1162538</td>\n",
       "      <td>995152</td>\n",
       "      <td>A</td>\n",
       "    </tr>\n",
       "    <tr>\n",
       "      <th>667</th>\n",
       "      <td>157.523016</td>\n",
       "      <td>90.905026</td>\n",
       "      <td>36.309243</td>\n",
       "      <td>231.573612</td>\n",
       "      <td>174.057077</td>\n",
       "      <td>72.618795</td>\n",
       "      <td>1266878</td>\n",
       "      <td>1048917</td>\n",
       "      <td>A</td>\n",
       "    </tr>\n",
       "    <tr>\n",
       "      <th>668</th>\n",
       "      <td>158.350168</td>\n",
       "      <td>90.745540</td>\n",
       "      <td>36.343762</td>\n",
       "      <td>231.495982</td>\n",
       "      <td>173.061224</td>\n",
       "      <td>72.950378</td>\n",
       "      <td>1444130</td>\n",
       "      <td>1148818</td>\n",
       "      <td>A</td>\n",
       "    </tr>\n",
       "    <tr>\n",
       "      <th>669</th>\n",
       "      <td>160.577532</td>\n",
       "      <td>92.081595</td>\n",
       "      <td>36.826877</td>\n",
       "      <td>231.576350</td>\n",
       "      <td>174.263036</td>\n",
       "      <td>72.532229</td>\n",
       "      <td>1466601</td>\n",
       "      <td>1177330</td>\n",
       "      <td>A</td>\n",
       "    </tr>\n",
       "  </tbody>\n",
       "</table>\n",
       "<p>670 rows × 9 columns</p>\n",
       "</div>"
      ],
      "text/plain": [
       "     correct_red  correct_green  correct_blue  rotten_red  rotten_green  \\\n",
       "0     102.145310      71.650220     60.076356  198.525260    166.334273   \n",
       "1     108.120346      72.055859     42.050057  179.390083    153.556705   \n",
       "2     130.237985      96.829654     55.391238  192.464646    175.431464   \n",
       "3     129.862173      96.989188     56.645207  192.207514    175.279996   \n",
       "4     131.482108      97.975687     67.411966  188.653318    172.598243   \n",
       "..           ...            ...           ...         ...           ...   \n",
       "665   153.179112      89.003745     36.146932  231.986014    174.261103   \n",
       "666   152.928633      88.469579     35.708979  231.169090    173.407067   \n",
       "667   157.523016      90.905026     36.309243  231.573612    174.057077   \n",
       "668   158.350168      90.745540     36.343762  231.495982    173.061224   \n",
       "669   160.577532      92.081595     36.826877  231.576350    174.263036   \n",
       "\n",
       "     rotten_blue  len_correct_part  len_rotten_part class_fruit  \n",
       "0     132.852773            821558           357782           D  \n",
       "1      93.620471            614371           372130           D  \n",
       "2      99.668104            423478           188946           D  \n",
       "3     102.596184            370300           172199           D  \n",
       "4     110.955419           1457828           688407           D  \n",
       "..           ...               ...              ...         ...  \n",
       "665    74.694848           1150758           993652           A  \n",
       "666    73.115444           1162538           995152           A  \n",
       "667    72.618795           1266878          1048917           A  \n",
       "668    72.950378           1444130          1148818           A  \n",
       "669    72.532229           1466601          1177330           A  \n",
       "\n",
       "[670 rows x 9 columns]"
      ]
     },
     "execution_count": 4,
     "metadata": {},
     "output_type": "execute_result"
    }
   ],
   "source": [
    "data"
   ]
  },
  {
   "cell_type": "code",
   "execution_count": 5,
   "id": "ee958aa7-87f6-470b-badb-2242cf385e18",
   "metadata": {},
   "outputs": [
    {
     "data": {
      "text/html": [
       "<div>\n",
       "<style scoped>\n",
       "    .dataframe tbody tr th:only-of-type {\n",
       "        vertical-align: middle;\n",
       "    }\n",
       "\n",
       "    .dataframe tbody tr th {\n",
       "        vertical-align: top;\n",
       "    }\n",
       "\n",
       "    .dataframe thead th {\n",
       "        text-align: right;\n",
       "    }\n",
       "</style>\n",
       "<table border=\"1\" class=\"dataframe\">\n",
       "  <thead>\n",
       "    <tr style=\"text-align: right;\">\n",
       "      <th></th>\n",
       "      <th>correct_red</th>\n",
       "      <th>correct_green</th>\n",
       "      <th>correct_blue</th>\n",
       "      <th>rotten_red</th>\n",
       "      <th>rotten_green</th>\n",
       "      <th>rotten_blue</th>\n",
       "      <th>len_correct_part</th>\n",
       "      <th>len_rotten_part</th>\n",
       "      <th>class_fruit</th>\n",
       "    </tr>\n",
       "  </thead>\n",
       "  <tbody>\n",
       "    <tr>\n",
       "      <th>0</th>\n",
       "      <td>102.145310</td>\n",
       "      <td>71.650220</td>\n",
       "      <td>60.076356</td>\n",
       "      <td>198.525260</td>\n",
       "      <td>166.334273</td>\n",
       "      <td>132.852773</td>\n",
       "      <td>821558</td>\n",
       "      <td>357782</td>\n",
       "      <td>D</td>\n",
       "    </tr>\n",
       "    <tr>\n",
       "      <th>1</th>\n",
       "      <td>108.120346</td>\n",
       "      <td>72.055859</td>\n",
       "      <td>42.050057</td>\n",
       "      <td>179.390083</td>\n",
       "      <td>153.556705</td>\n",
       "      <td>93.620471</td>\n",
       "      <td>614371</td>\n",
       "      <td>372130</td>\n",
       "      <td>D</td>\n",
       "    </tr>\n",
       "    <tr>\n",
       "      <th>2</th>\n",
       "      <td>130.237985</td>\n",
       "      <td>96.829654</td>\n",
       "      <td>55.391238</td>\n",
       "      <td>192.464646</td>\n",
       "      <td>175.431464</td>\n",
       "      <td>99.668104</td>\n",
       "      <td>423478</td>\n",
       "      <td>188946</td>\n",
       "      <td>D</td>\n",
       "    </tr>\n",
       "    <tr>\n",
       "      <th>3</th>\n",
       "      <td>129.862173</td>\n",
       "      <td>96.989188</td>\n",
       "      <td>56.645207</td>\n",
       "      <td>192.207514</td>\n",
       "      <td>175.279996</td>\n",
       "      <td>102.596184</td>\n",
       "      <td>370300</td>\n",
       "      <td>172199</td>\n",
       "      <td>D</td>\n",
       "    </tr>\n",
       "    <tr>\n",
       "      <th>4</th>\n",
       "      <td>131.482108</td>\n",
       "      <td>97.975687</td>\n",
       "      <td>67.411966</td>\n",
       "      <td>188.653318</td>\n",
       "      <td>172.598243</td>\n",
       "      <td>110.955419</td>\n",
       "      <td>1457828</td>\n",
       "      <td>688407</td>\n",
       "      <td>D</td>\n",
       "    </tr>\n",
       "  </tbody>\n",
       "</table>\n",
       "</div>"
      ],
      "text/plain": [
       "   correct_red  correct_green  correct_blue  rotten_red  rotten_green  \\\n",
       "0   102.145310      71.650220     60.076356  198.525260    166.334273   \n",
       "1   108.120346      72.055859     42.050057  179.390083    153.556705   \n",
       "2   130.237985      96.829654     55.391238  192.464646    175.431464   \n",
       "3   129.862173      96.989188     56.645207  192.207514    175.279996   \n",
       "4   131.482108      97.975687     67.411966  188.653318    172.598243   \n",
       "\n",
       "   rotten_blue  len_correct_part  len_rotten_part class_fruit  \n",
       "0   132.852773            821558           357782           D  \n",
       "1    93.620471            614371           372130           D  \n",
       "2    99.668104            423478           188946           D  \n",
       "3   102.596184            370300           172199           D  \n",
       "4   110.955419           1457828           688407           D  "
      ]
     },
     "execution_count": 5,
     "metadata": {},
     "output_type": "execute_result"
    }
   ],
   "source": [
    "data.head()"
   ]
  },
  {
   "cell_type": "code",
   "execution_count": 5,
   "id": "5e151c12-66c8-4430-9724-29d778162b9f",
   "metadata": {},
   "outputs": [
    {
     "data": {
      "text/plain": [
       "(670, 9)"
      ]
     },
     "execution_count": 5,
     "metadata": {},
     "output_type": "execute_result"
    }
   ],
   "source": [
    "data.shape"
   ]
  },
  {
   "cell_type": "code",
   "execution_count": 6,
   "id": "8464a69e-0daf-44ce-95e1-867389ca2092",
   "metadata": {},
   "outputs": [
    {
     "data": {
      "text/plain": [
       "correct_red         0\n",
       "correct_green       0\n",
       "correct_blue        0\n",
       "rotten_red          0\n",
       "rotten_green        0\n",
       "rotten_blue         0\n",
       "len_correct_part    0\n",
       "len_rotten_part     0\n",
       "class_fruit         0\n",
       "dtype: int64"
      ]
     },
     "execution_count": 6,
     "metadata": {},
     "output_type": "execute_result"
    }
   ],
   "source": [
    "data.isnull().sum()"
   ]
  },
  {
   "cell_type": "code",
   "execution_count": 4,
   "id": "2bf533a3-6872-416f-935f-0d6162d3ca7b",
   "metadata": {},
   "outputs": [],
   "source": [
    "y=data['class_fruit']"
   ]
  },
  {
   "cell_type": "code",
   "execution_count": 8,
   "id": "b9e1b9c2-eafc-4377-a466-df41491700e8",
   "metadata": {},
   "outputs": [
    {
     "data": {
      "text/html": [
       "<div>\n",
       "<style scoped>\n",
       "    .dataframe tbody tr th:only-of-type {\n",
       "        vertical-align: middle;\n",
       "    }\n",
       "\n",
       "    .dataframe tbody tr th {\n",
       "        vertical-align: top;\n",
       "    }\n",
       "\n",
       "    .dataframe thead th {\n",
       "        text-align: right;\n",
       "    }\n",
       "</style>\n",
       "<table border=\"1\" class=\"dataframe\">\n",
       "  <thead>\n",
       "    <tr style=\"text-align: right;\">\n",
       "      <th></th>\n",
       "      <th>correct_red</th>\n",
       "      <th>correct_green</th>\n",
       "      <th>correct_blue</th>\n",
       "      <th>rotten_red</th>\n",
       "      <th>rotten_green</th>\n",
       "      <th>rotten_blue</th>\n",
       "      <th>len_correct_part</th>\n",
       "      <th>len_rotten_part</th>\n",
       "      <th>class_fruit</th>\n",
       "    </tr>\n",
       "  </thead>\n",
       "  <tbody>\n",
       "    <tr>\n",
       "      <th>0</th>\n",
       "      <td>102.145310</td>\n",
       "      <td>71.650220</td>\n",
       "      <td>60.076356</td>\n",
       "      <td>198.525260</td>\n",
       "      <td>166.334273</td>\n",
       "      <td>132.852773</td>\n",
       "      <td>821558</td>\n",
       "      <td>357782</td>\n",
       "      <td>D</td>\n",
       "    </tr>\n",
       "    <tr>\n",
       "      <th>1</th>\n",
       "      <td>108.120346</td>\n",
       "      <td>72.055859</td>\n",
       "      <td>42.050057</td>\n",
       "      <td>179.390083</td>\n",
       "      <td>153.556705</td>\n",
       "      <td>93.620471</td>\n",
       "      <td>614371</td>\n",
       "      <td>372130</td>\n",
       "      <td>D</td>\n",
       "    </tr>\n",
       "    <tr>\n",
       "      <th>2</th>\n",
       "      <td>130.237985</td>\n",
       "      <td>96.829654</td>\n",
       "      <td>55.391238</td>\n",
       "      <td>192.464646</td>\n",
       "      <td>175.431464</td>\n",
       "      <td>99.668104</td>\n",
       "      <td>423478</td>\n",
       "      <td>188946</td>\n",
       "      <td>D</td>\n",
       "    </tr>\n",
       "    <tr>\n",
       "      <th>3</th>\n",
       "      <td>129.862173</td>\n",
       "      <td>96.989188</td>\n",
       "      <td>56.645207</td>\n",
       "      <td>192.207514</td>\n",
       "      <td>175.279996</td>\n",
       "      <td>102.596184</td>\n",
       "      <td>370300</td>\n",
       "      <td>172199</td>\n",
       "      <td>D</td>\n",
       "    </tr>\n",
       "    <tr>\n",
       "      <th>4</th>\n",
       "      <td>131.482108</td>\n",
       "      <td>97.975687</td>\n",
       "      <td>67.411966</td>\n",
       "      <td>188.653318</td>\n",
       "      <td>172.598243</td>\n",
       "      <td>110.955419</td>\n",
       "      <td>1457828</td>\n",
       "      <td>688407</td>\n",
       "      <td>D</td>\n",
       "    </tr>\n",
       "  </tbody>\n",
       "</table>\n",
       "</div>"
      ],
      "text/plain": [
       "   correct_red  correct_green  correct_blue  rotten_red  rotten_green  \\\n",
       "0   102.145310      71.650220     60.076356  198.525260    166.334273   \n",
       "1   108.120346      72.055859     42.050057  179.390083    153.556705   \n",
       "2   130.237985      96.829654     55.391238  192.464646    175.431464   \n",
       "3   129.862173      96.989188     56.645207  192.207514    175.279996   \n",
       "4   131.482108      97.975687     67.411966  188.653318    172.598243   \n",
       "\n",
       "   rotten_blue  len_correct_part  len_rotten_part class_fruit  \n",
       "0   132.852773            821558           357782           D  \n",
       "1    93.620471            614371           372130           D  \n",
       "2    99.668104            423478           188946           D  \n",
       "3   102.596184            370300           172199           D  \n",
       "4   110.955419           1457828           688407           D  "
      ]
     },
     "execution_count": 8,
     "metadata": {},
     "output_type": "execute_result"
    }
   ],
   "source": [
    "data.head()"
   ]
  },
  {
   "cell_type": "code",
   "execution_count": 9,
   "id": "9ae4b435-b093-45fd-9701-f7691d3dc8d9",
   "metadata": {},
   "outputs": [
    {
     "data": {
      "text/html": [
       "<div>\n",
       "<style scoped>\n",
       "    .dataframe tbody tr th:only-of-type {\n",
       "        vertical-align: middle;\n",
       "    }\n",
       "\n",
       "    .dataframe tbody tr th {\n",
       "        vertical-align: top;\n",
       "    }\n",
       "\n",
       "    .dataframe thead th {\n",
       "        text-align: right;\n",
       "    }\n",
       "</style>\n",
       "<table border=\"1\" class=\"dataframe\">\n",
       "  <thead>\n",
       "    <tr style=\"text-align: right;\">\n",
       "      <th></th>\n",
       "      <th>correct_red</th>\n",
       "      <th>correct_green</th>\n",
       "      <th>correct_blue</th>\n",
       "      <th>rotten_red</th>\n",
       "      <th>rotten_green</th>\n",
       "      <th>rotten_blue</th>\n",
       "      <th>len_correct_part</th>\n",
       "      <th>len_rotten_part</th>\n",
       "      <th>class_fruit</th>\n",
       "    </tr>\n",
       "  </thead>\n",
       "  <tbody>\n",
       "    <tr>\n",
       "      <th>0</th>\n",
       "      <td>False</td>\n",
       "      <td>False</td>\n",
       "      <td>False</td>\n",
       "      <td>False</td>\n",
       "      <td>False</td>\n",
       "      <td>False</td>\n",
       "      <td>False</td>\n",
       "      <td>False</td>\n",
       "      <td>False</td>\n",
       "    </tr>\n",
       "    <tr>\n",
       "      <th>1</th>\n",
       "      <td>False</td>\n",
       "      <td>False</td>\n",
       "      <td>False</td>\n",
       "      <td>False</td>\n",
       "      <td>False</td>\n",
       "      <td>False</td>\n",
       "      <td>False</td>\n",
       "      <td>False</td>\n",
       "      <td>False</td>\n",
       "    </tr>\n",
       "    <tr>\n",
       "      <th>2</th>\n",
       "      <td>False</td>\n",
       "      <td>False</td>\n",
       "      <td>False</td>\n",
       "      <td>False</td>\n",
       "      <td>False</td>\n",
       "      <td>False</td>\n",
       "      <td>False</td>\n",
       "      <td>False</td>\n",
       "      <td>False</td>\n",
       "    </tr>\n",
       "    <tr>\n",
       "      <th>3</th>\n",
       "      <td>False</td>\n",
       "      <td>False</td>\n",
       "      <td>False</td>\n",
       "      <td>False</td>\n",
       "      <td>False</td>\n",
       "      <td>False</td>\n",
       "      <td>False</td>\n",
       "      <td>False</td>\n",
       "      <td>False</td>\n",
       "    </tr>\n",
       "    <tr>\n",
       "      <th>4</th>\n",
       "      <td>False</td>\n",
       "      <td>False</td>\n",
       "      <td>False</td>\n",
       "      <td>False</td>\n",
       "      <td>False</td>\n",
       "      <td>False</td>\n",
       "      <td>False</td>\n",
       "      <td>False</td>\n",
       "      <td>False</td>\n",
       "    </tr>\n",
       "    <tr>\n",
       "      <th>...</th>\n",
       "      <td>...</td>\n",
       "      <td>...</td>\n",
       "      <td>...</td>\n",
       "      <td>...</td>\n",
       "      <td>...</td>\n",
       "      <td>...</td>\n",
       "      <td>...</td>\n",
       "      <td>...</td>\n",
       "      <td>...</td>\n",
       "    </tr>\n",
       "    <tr>\n",
       "      <th>665</th>\n",
       "      <td>False</td>\n",
       "      <td>False</td>\n",
       "      <td>False</td>\n",
       "      <td>False</td>\n",
       "      <td>False</td>\n",
       "      <td>False</td>\n",
       "      <td>False</td>\n",
       "      <td>False</td>\n",
       "      <td>False</td>\n",
       "    </tr>\n",
       "    <tr>\n",
       "      <th>666</th>\n",
       "      <td>False</td>\n",
       "      <td>False</td>\n",
       "      <td>False</td>\n",
       "      <td>False</td>\n",
       "      <td>False</td>\n",
       "      <td>False</td>\n",
       "      <td>False</td>\n",
       "      <td>False</td>\n",
       "      <td>False</td>\n",
       "    </tr>\n",
       "    <tr>\n",
       "      <th>667</th>\n",
       "      <td>False</td>\n",
       "      <td>False</td>\n",
       "      <td>False</td>\n",
       "      <td>False</td>\n",
       "      <td>False</td>\n",
       "      <td>False</td>\n",
       "      <td>False</td>\n",
       "      <td>False</td>\n",
       "      <td>False</td>\n",
       "    </tr>\n",
       "    <tr>\n",
       "      <th>668</th>\n",
       "      <td>False</td>\n",
       "      <td>False</td>\n",
       "      <td>False</td>\n",
       "      <td>False</td>\n",
       "      <td>False</td>\n",
       "      <td>False</td>\n",
       "      <td>False</td>\n",
       "      <td>False</td>\n",
       "      <td>False</td>\n",
       "    </tr>\n",
       "    <tr>\n",
       "      <th>669</th>\n",
       "      <td>False</td>\n",
       "      <td>False</td>\n",
       "      <td>False</td>\n",
       "      <td>False</td>\n",
       "      <td>False</td>\n",
       "      <td>False</td>\n",
       "      <td>False</td>\n",
       "      <td>False</td>\n",
       "      <td>False</td>\n",
       "    </tr>\n",
       "  </tbody>\n",
       "</table>\n",
       "<p>670 rows × 9 columns</p>\n",
       "</div>"
      ],
      "text/plain": [
       "     correct_red  correct_green  correct_blue  rotten_red  rotten_green  \\\n",
       "0          False          False         False       False         False   \n",
       "1          False          False         False       False         False   \n",
       "2          False          False         False       False         False   \n",
       "3          False          False         False       False         False   \n",
       "4          False          False         False       False         False   \n",
       "..           ...            ...           ...         ...           ...   \n",
       "665        False          False         False       False         False   \n",
       "666        False          False         False       False         False   \n",
       "667        False          False         False       False         False   \n",
       "668        False          False         False       False         False   \n",
       "669        False          False         False       False         False   \n",
       "\n",
       "     rotten_blue  len_correct_part  len_rotten_part  class_fruit  \n",
       "0          False             False            False        False  \n",
       "1          False             False            False        False  \n",
       "2          False             False            False        False  \n",
       "3          False             False            False        False  \n",
       "4          False             False            False        False  \n",
       "..           ...               ...              ...          ...  \n",
       "665        False             False            False        False  \n",
       "666        False             False            False        False  \n",
       "667        False             False            False        False  \n",
       "668        False             False            False        False  \n",
       "669        False             False            False        False  \n",
       "\n",
       "[670 rows x 9 columns]"
      ]
     },
     "execution_count": 9,
     "metadata": {},
     "output_type": "execute_result"
    }
   ],
   "source": [
    "data.isnull()"
   ]
  },
  {
   "cell_type": "code",
   "execution_count": 6,
   "id": "3d458408-b020-490f-b256-bf9d906a7ba7",
   "metadata": {},
   "outputs": [
    {
     "data": {
      "text/html": [
       "<div>\n",
       "<style scoped>\n",
       "    .dataframe tbody tr th:only-of-type {\n",
       "        vertical-align: middle;\n",
       "    }\n",
       "\n",
       "    .dataframe tbody tr th {\n",
       "        vertical-align: top;\n",
       "    }\n",
       "\n",
       "    .dataframe thead th {\n",
       "        text-align: right;\n",
       "    }\n",
       "</style>\n",
       "<table border=\"1\" class=\"dataframe\">\n",
       "  <thead>\n",
       "    <tr style=\"text-align: right;\">\n",
       "      <th></th>\n",
       "      <th>correct_red</th>\n",
       "      <th>correct_green</th>\n",
       "      <th>correct_blue</th>\n",
       "      <th>rotten_red</th>\n",
       "      <th>rotten_green</th>\n",
       "      <th>rotten_blue</th>\n",
       "      <th>len_correct_part</th>\n",
       "      <th>len_rotten_part</th>\n",
       "    </tr>\n",
       "  </thead>\n",
       "  <tbody>\n",
       "    <tr>\n",
       "      <th>count</th>\n",
       "      <td>670.000000</td>\n",
       "      <td>670.000000</td>\n",
       "      <td>670.000000</td>\n",
       "      <td>670.000000</td>\n",
       "      <td>670.000000</td>\n",
       "      <td>670.000000</td>\n",
       "      <td>6.700000e+02</td>\n",
       "      <td>6.700000e+02</td>\n",
       "    </tr>\n",
       "    <tr>\n",
       "      <th>mean</th>\n",
       "      <td>142.401102</td>\n",
       "      <td>93.691443</td>\n",
       "      <td>45.937221</td>\n",
       "      <td>203.434920</td>\n",
       "      <td>164.923074</td>\n",
       "      <td>102.497541</td>\n",
       "      <td>1.480033e+06</td>\n",
       "      <td>9.538781e+05</td>\n",
       "    </tr>\n",
       "    <tr>\n",
       "      <th>std</th>\n",
       "      <td>22.770427</td>\n",
       "      <td>29.270469</td>\n",
       "      <td>12.768677</td>\n",
       "      <td>19.509863</td>\n",
       "      <td>30.082569</td>\n",
       "      <td>25.688877</td>\n",
       "      <td>5.562213e+05</td>\n",
       "      <td>4.428345e+05</td>\n",
       "    </tr>\n",
       "    <tr>\n",
       "      <th>min</th>\n",
       "      <td>61.708732</td>\n",
       "      <td>39.076280</td>\n",
       "      <td>24.319278</td>\n",
       "      <td>99.642239</td>\n",
       "      <td>68.461009</td>\n",
       "      <td>29.309475</td>\n",
       "      <td>6.790200e+04</td>\n",
       "      <td>2.117900e+04</td>\n",
       "    </tr>\n",
       "    <tr>\n",
       "      <th>25%</th>\n",
       "      <td>127.459209</td>\n",
       "      <td>73.175863</td>\n",
       "      <td>37.887417</td>\n",
       "      <td>194.302249</td>\n",
       "      <td>156.409928</td>\n",
       "      <td>93.671966</td>\n",
       "      <td>1.134320e+06</td>\n",
       "      <td>5.857410e+05</td>\n",
       "    </tr>\n",
       "    <tr>\n",
       "      <th>50%</th>\n",
       "      <td>142.201047</td>\n",
       "      <td>89.492183</td>\n",
       "      <td>43.684900</td>\n",
       "      <td>203.580042</td>\n",
       "      <td>170.859267</td>\n",
       "      <td>104.973743</td>\n",
       "      <td>1.419406e+06</td>\n",
       "      <td>9.298630e+05</td>\n",
       "    </tr>\n",
       "    <tr>\n",
       "      <th>75%</th>\n",
       "      <td>157.907280</td>\n",
       "      <td>113.612091</td>\n",
       "      <td>50.510197</td>\n",
       "      <td>214.373190</td>\n",
       "      <td>185.507920</td>\n",
       "      <td>118.418619</td>\n",
       "      <td>1.799224e+06</td>\n",
       "      <td>1.214796e+06</td>\n",
       "    </tr>\n",
       "    <tr>\n",
       "      <th>max</th>\n",
       "      <td>208.128277</td>\n",
       "      <td>211.681875</td>\n",
       "      <td>116.934646</td>\n",
       "      <td>248.695860</td>\n",
       "      <td>219.172081</td>\n",
       "      <td>174.905070</td>\n",
       "      <td>3.459559e+06</td>\n",
       "      <td>2.599382e+06</td>\n",
       "    </tr>\n",
       "  </tbody>\n",
       "</table>\n",
       "</div>"
      ],
      "text/plain": [
       "       correct_red  correct_green  correct_blue  rotten_red  rotten_green  \\\n",
       "count   670.000000     670.000000    670.000000  670.000000    670.000000   \n",
       "mean    142.401102      93.691443     45.937221  203.434920    164.923074   \n",
       "std      22.770427      29.270469     12.768677   19.509863     30.082569   \n",
       "min      61.708732      39.076280     24.319278   99.642239     68.461009   \n",
       "25%     127.459209      73.175863     37.887417  194.302249    156.409928   \n",
       "50%     142.201047      89.492183     43.684900  203.580042    170.859267   \n",
       "75%     157.907280     113.612091     50.510197  214.373190    185.507920   \n",
       "max     208.128277     211.681875    116.934646  248.695860    219.172081   \n",
       "\n",
       "       rotten_blue  len_correct_part  len_rotten_part  \n",
       "count   670.000000      6.700000e+02     6.700000e+02  \n",
       "mean    102.497541      1.480033e+06     9.538781e+05  \n",
       "std      25.688877      5.562213e+05     4.428345e+05  \n",
       "min      29.309475      6.790200e+04     2.117900e+04  \n",
       "25%      93.671966      1.134320e+06     5.857410e+05  \n",
       "50%     104.973743      1.419406e+06     9.298630e+05  \n",
       "75%     118.418619      1.799224e+06     1.214796e+06  \n",
       "max     174.905070      3.459559e+06     2.599382e+06  "
      ]
     },
     "execution_count": 6,
     "metadata": {},
     "output_type": "execute_result"
    }
   ],
   "source": [
    "data.describe()"
   ]
  },
  {
   "cell_type": "code",
   "execution_count": 5,
   "id": "df6874d0-b304-4aa3-a78e-ca598e81a016",
   "metadata": {},
   "outputs": [],
   "source": [
    "X=data.drop('class_fruit',axis=1)"
   ]
  },
  {
   "cell_type": "code",
   "execution_count": 6,
   "id": "5c7ea874-be1a-4b40-9df5-bbd351852d79",
   "metadata": {},
   "outputs": [
    {
     "data": {
      "text/html": [
       "<div>\n",
       "<style scoped>\n",
       "    .dataframe tbody tr th:only-of-type {\n",
       "        vertical-align: middle;\n",
       "    }\n",
       "\n",
       "    .dataframe tbody tr th {\n",
       "        vertical-align: top;\n",
       "    }\n",
       "\n",
       "    .dataframe thead th {\n",
       "        text-align: right;\n",
       "    }\n",
       "</style>\n",
       "<table border=\"1\" class=\"dataframe\">\n",
       "  <thead>\n",
       "    <tr style=\"text-align: right;\">\n",
       "      <th></th>\n",
       "      <th>correct_red</th>\n",
       "      <th>correct_green</th>\n",
       "      <th>correct_blue</th>\n",
       "      <th>rotten_red</th>\n",
       "      <th>rotten_green</th>\n",
       "      <th>rotten_blue</th>\n",
       "      <th>len_correct_part</th>\n",
       "      <th>len_rotten_part</th>\n",
       "    </tr>\n",
       "  </thead>\n",
       "  <tbody>\n",
       "    <tr>\n",
       "      <th>0</th>\n",
       "      <td>102.145310</td>\n",
       "      <td>71.650220</td>\n",
       "      <td>60.076356</td>\n",
       "      <td>198.525260</td>\n",
       "      <td>166.334273</td>\n",
       "      <td>132.852773</td>\n",
       "      <td>821558</td>\n",
       "      <td>357782</td>\n",
       "    </tr>\n",
       "    <tr>\n",
       "      <th>1</th>\n",
       "      <td>108.120346</td>\n",
       "      <td>72.055859</td>\n",
       "      <td>42.050057</td>\n",
       "      <td>179.390083</td>\n",
       "      <td>153.556705</td>\n",
       "      <td>93.620471</td>\n",
       "      <td>614371</td>\n",
       "      <td>372130</td>\n",
       "    </tr>\n",
       "    <tr>\n",
       "      <th>2</th>\n",
       "      <td>130.237985</td>\n",
       "      <td>96.829654</td>\n",
       "      <td>55.391238</td>\n",
       "      <td>192.464646</td>\n",
       "      <td>175.431464</td>\n",
       "      <td>99.668104</td>\n",
       "      <td>423478</td>\n",
       "      <td>188946</td>\n",
       "    </tr>\n",
       "    <tr>\n",
       "      <th>3</th>\n",
       "      <td>129.862173</td>\n",
       "      <td>96.989188</td>\n",
       "      <td>56.645207</td>\n",
       "      <td>192.207514</td>\n",
       "      <td>175.279996</td>\n",
       "      <td>102.596184</td>\n",
       "      <td>370300</td>\n",
       "      <td>172199</td>\n",
       "    </tr>\n",
       "    <tr>\n",
       "      <th>4</th>\n",
       "      <td>131.482108</td>\n",
       "      <td>97.975687</td>\n",
       "      <td>67.411966</td>\n",
       "      <td>188.653318</td>\n",
       "      <td>172.598243</td>\n",
       "      <td>110.955419</td>\n",
       "      <td>1457828</td>\n",
       "      <td>688407</td>\n",
       "    </tr>\n",
       "  </tbody>\n",
       "</table>\n",
       "</div>"
      ],
      "text/plain": [
       "   correct_red  correct_green  correct_blue  rotten_red  rotten_green  \\\n",
       "0   102.145310      71.650220     60.076356  198.525260    166.334273   \n",
       "1   108.120346      72.055859     42.050057  179.390083    153.556705   \n",
       "2   130.237985      96.829654     55.391238  192.464646    175.431464   \n",
       "3   129.862173      96.989188     56.645207  192.207514    175.279996   \n",
       "4   131.482108      97.975687     67.411966  188.653318    172.598243   \n",
       "\n",
       "   rotten_blue  len_correct_part  len_rotten_part  \n",
       "0   132.852773            821558           357782  \n",
       "1    93.620471            614371           372130  \n",
       "2    99.668104            423478           188946  \n",
       "3   102.596184            370300           172199  \n",
       "4   110.955419           1457828           688407  "
      ]
     },
     "execution_count": 6,
     "metadata": {},
     "output_type": "execute_result"
    }
   ],
   "source": [
    "X.head()"
   ]
  },
  {
   "cell_type": "code",
   "execution_count": 7,
   "id": "eba80a3a-2756-4cce-9a49-0d7a826e7695",
   "metadata": {},
   "outputs": [
    {
     "data": {
      "text/plain": [
       "0      D\n",
       "1      D\n",
       "2      D\n",
       "3      D\n",
       "4      D\n",
       "      ..\n",
       "665    A\n",
       "666    A\n",
       "667    A\n",
       "668    A\n",
       "669    A\n",
       "Name: class_fruit, Length: 670, dtype: object"
      ]
     },
     "execution_count": 7,
     "metadata": {},
     "output_type": "execute_result"
    }
   ],
   "source": [
    "y"
   ]
  },
  {
   "cell_type": "code",
   "execution_count": 12,
   "id": "f193744b-5772-458c-9491-3ab8797abbe8",
   "metadata": {},
   "outputs": [],
   "source": [
    "X_train, X_test, y_train, y_test = train_test_split(X, y, test_size=0.1, random_state=42)"
   ]
  },
  {
   "cell_type": "code",
   "execution_count": 14,
   "id": "f37c8ac4-2f1b-421d-80dc-ff3c5a90b77c",
   "metadata": {},
   "outputs": [
    {
     "data": {
      "text/html": [
       "<div>\n",
       "<style scoped>\n",
       "    .dataframe tbody tr th:only-of-type {\n",
       "        vertical-align: middle;\n",
       "    }\n",
       "\n",
       "    .dataframe tbody tr th {\n",
       "        vertical-align: top;\n",
       "    }\n",
       "\n",
       "    .dataframe thead th {\n",
       "        text-align: right;\n",
       "    }\n",
       "</style>\n",
       "<table border=\"1\" class=\"dataframe\">\n",
       "  <thead>\n",
       "    <tr style=\"text-align: right;\">\n",
       "      <th></th>\n",
       "      <th>correct_red</th>\n",
       "      <th>correct_green</th>\n",
       "      <th>correct_blue</th>\n",
       "      <th>rotten_red</th>\n",
       "      <th>rotten_green</th>\n",
       "      <th>rotten_blue</th>\n",
       "      <th>len_correct_part</th>\n",
       "      <th>len_rotten_part</th>\n",
       "    </tr>\n",
       "  </thead>\n",
       "  <tbody>\n",
       "    <tr>\n",
       "      <th>300</th>\n",
       "      <td>152.291089</td>\n",
       "      <td>123.745774</td>\n",
       "      <td>43.510875</td>\n",
       "      <td>203.654189</td>\n",
       "      <td>196.757591</td>\n",
       "      <td>113.075340</td>\n",
       "      <td>1801995</td>\n",
       "      <td>1103416</td>\n",
       "    </tr>\n",
       "    <tr>\n",
       "      <th>60</th>\n",
       "      <td>122.094360</td>\n",
       "      <td>82.301304</td>\n",
       "      <td>50.335287</td>\n",
       "      <td>197.798906</td>\n",
       "      <td>185.219849</td>\n",
       "      <td>122.006497</td>\n",
       "      <td>2196374</td>\n",
       "      <td>1256652</td>\n",
       "    </tr>\n",
       "    <tr>\n",
       "      <th>133</th>\n",
       "      <td>122.805360</td>\n",
       "      <td>67.247810</td>\n",
       "      <td>33.534031</td>\n",
       "      <td>210.612047</td>\n",
       "      <td>130.577297</td>\n",
       "      <td>46.993495</td>\n",
       "      <td>1025498</td>\n",
       "      <td>1754574</td>\n",
       "    </tr>\n",
       "    <tr>\n",
       "      <th>30</th>\n",
       "      <td>129.470279</td>\n",
       "      <td>85.883035</td>\n",
       "      <td>51.123521</td>\n",
       "      <td>200.154852</td>\n",
       "      <td>186.260525</td>\n",
       "      <td>121.201840</td>\n",
       "      <td>1760648</td>\n",
       "      <td>1023753</td>\n",
       "    </tr>\n",
       "    <tr>\n",
       "      <th>69</th>\n",
       "      <td>129.882203</td>\n",
       "      <td>85.564437</td>\n",
       "      <td>63.037650</td>\n",
       "      <td>196.987702</td>\n",
       "      <td>167.166116</td>\n",
       "      <td>128.959479</td>\n",
       "      <td>3137037</td>\n",
       "      <td>665358</td>\n",
       "    </tr>\n",
       "    <tr>\n",
       "      <th>...</th>\n",
       "      <td>...</td>\n",
       "      <td>...</td>\n",
       "      <td>...</td>\n",
       "      <td>...</td>\n",
       "      <td>...</td>\n",
       "      <td>...</td>\n",
       "      <td>...</td>\n",
       "      <td>...</td>\n",
       "    </tr>\n",
       "    <tr>\n",
       "      <th>71</th>\n",
       "      <td>129.852992</td>\n",
       "      <td>86.531056</td>\n",
       "      <td>64.013375</td>\n",
       "      <td>196.998658</td>\n",
       "      <td>167.925141</td>\n",
       "      <td>129.567208</td>\n",
       "      <td>3081299</td>\n",
       "      <td>640762</td>\n",
       "    </tr>\n",
       "    <tr>\n",
       "      <th>106</th>\n",
       "      <td>177.629911</td>\n",
       "      <td>149.162549</td>\n",
       "      <td>63.095434</td>\n",
       "      <td>106.019536</td>\n",
       "      <td>95.462808</td>\n",
       "      <td>85.166647</td>\n",
       "      <td>1199386</td>\n",
       "      <td>813226</td>\n",
       "    </tr>\n",
       "    <tr>\n",
       "      <th>270</th>\n",
       "      <td>152.246059</td>\n",
       "      <td>127.553695</td>\n",
       "      <td>39.447592</td>\n",
       "      <td>199.485760</td>\n",
       "      <td>198.816559</td>\n",
       "      <td>112.256007</td>\n",
       "      <td>1166002</td>\n",
       "      <td>412612</td>\n",
       "    </tr>\n",
       "    <tr>\n",
       "      <th>435</th>\n",
       "      <td>143.794399</td>\n",
       "      <td>62.047783</td>\n",
       "      <td>37.817873</td>\n",
       "      <td>208.663753</td>\n",
       "      <td>162.701933</td>\n",
       "      <td>97.574061</td>\n",
       "      <td>1610235</td>\n",
       "      <td>1396892</td>\n",
       "    </tr>\n",
       "    <tr>\n",
       "      <th>102</th>\n",
       "      <td>137.158896</td>\n",
       "      <td>86.554147</td>\n",
       "      <td>36.605040</td>\n",
       "      <td>184.702049</td>\n",
       "      <td>162.329565</td>\n",
       "      <td>92.252938</td>\n",
       "      <td>1350784</td>\n",
       "      <td>471737</td>\n",
       "    </tr>\n",
       "  </tbody>\n",
       "</table>\n",
       "<p>603 rows × 8 columns</p>\n",
       "</div>"
      ],
      "text/plain": [
       "     correct_red  correct_green  correct_blue  rotten_red  rotten_green  \\\n",
       "300   152.291089     123.745774     43.510875  203.654189    196.757591   \n",
       "60    122.094360      82.301304     50.335287  197.798906    185.219849   \n",
       "133   122.805360      67.247810     33.534031  210.612047    130.577297   \n",
       "30    129.470279      85.883035     51.123521  200.154852    186.260525   \n",
       "69    129.882203      85.564437     63.037650  196.987702    167.166116   \n",
       "..           ...            ...           ...         ...           ...   \n",
       "71    129.852992      86.531056     64.013375  196.998658    167.925141   \n",
       "106   177.629911     149.162549     63.095434  106.019536     95.462808   \n",
       "270   152.246059     127.553695     39.447592  199.485760    198.816559   \n",
       "435   143.794399      62.047783     37.817873  208.663753    162.701933   \n",
       "102   137.158896      86.554147     36.605040  184.702049    162.329565   \n",
       "\n",
       "     rotten_blue  len_correct_part  len_rotten_part  \n",
       "300   113.075340           1801995          1103416  \n",
       "60    122.006497           2196374          1256652  \n",
       "133    46.993495           1025498          1754574  \n",
       "30    121.201840           1760648          1023753  \n",
       "69    128.959479           3137037           665358  \n",
       "..           ...               ...              ...  \n",
       "71    129.567208           3081299           640762  \n",
       "106    85.166647           1199386           813226  \n",
       "270   112.256007           1166002           412612  \n",
       "435    97.574061           1610235          1396892  \n",
       "102    92.252938           1350784           471737  \n",
       "\n",
       "[603 rows x 8 columns]"
      ]
     },
     "execution_count": 14,
     "metadata": {},
     "output_type": "execute_result"
    }
   ],
   "source": [
    "X_train"
   ]
  },
  {
   "cell_type": "code",
   "execution_count": 15,
   "id": "234f9227-4eb1-4fb4-b024-d1e37dac5fe7",
   "metadata": {},
   "outputs": [
    {
     "data": {
      "text/html": [
       "<div>\n",
       "<style scoped>\n",
       "    .dataframe tbody tr th:only-of-type {\n",
       "        vertical-align: middle;\n",
       "    }\n",
       "\n",
       "    .dataframe tbody tr th {\n",
       "        vertical-align: top;\n",
       "    }\n",
       "\n",
       "    .dataframe thead th {\n",
       "        text-align: right;\n",
       "    }\n",
       "</style>\n",
       "<table border=\"1\" class=\"dataframe\">\n",
       "  <thead>\n",
       "    <tr style=\"text-align: right;\">\n",
       "      <th></th>\n",
       "      <th>correct_red</th>\n",
       "      <th>correct_green</th>\n",
       "      <th>correct_blue</th>\n",
       "      <th>rotten_red</th>\n",
       "      <th>rotten_green</th>\n",
       "      <th>rotten_blue</th>\n",
       "      <th>len_correct_part</th>\n",
       "      <th>len_rotten_part</th>\n",
       "    </tr>\n",
       "  </thead>\n",
       "  <tbody>\n",
       "    <tr>\n",
       "      <th>361</th>\n",
       "      <td>111.510270</td>\n",
       "      <td>90.623880</td>\n",
       "      <td>45.624379</td>\n",
       "      <td>176.097930</td>\n",
       "      <td>163.451583</td>\n",
       "      <td>103.702660</td>\n",
       "      <td>1576278</td>\n",
       "      <td>903843</td>\n",
       "    </tr>\n",
       "    <tr>\n",
       "      <th>158</th>\n",
       "      <td>140.283703</td>\n",
       "      <td>87.008768</td>\n",
       "      <td>36.394638</td>\n",
       "      <td>213.108779</td>\n",
       "      <td>147.575972</td>\n",
       "      <td>62.671916</td>\n",
       "      <td>1352378</td>\n",
       "      <td>1363271</td>\n",
       "    </tr>\n",
       "    <tr>\n",
       "      <th>480</th>\n",
       "      <td>143.355132</td>\n",
       "      <td>100.298904</td>\n",
       "      <td>55.372565</td>\n",
       "      <td>204.665378</td>\n",
       "      <td>196.123543</td>\n",
       "      <td>131.739151</td>\n",
       "      <td>2290172</td>\n",
       "      <td>1502030</td>\n",
       "    </tr>\n",
       "    <tr>\n",
       "      <th>640</th>\n",
       "      <td>143.749033</td>\n",
       "      <td>75.836217</td>\n",
       "      <td>37.409898</td>\n",
       "      <td>236.244667</td>\n",
       "      <td>162.238175</td>\n",
       "      <td>66.712335</td>\n",
       "      <td>557495</td>\n",
       "      <td>960754</td>\n",
       "    </tr>\n",
       "    <tr>\n",
       "      <th>275</th>\n",
       "      <td>197.196272</td>\n",
       "      <td>188.701427</td>\n",
       "      <td>96.619021</td>\n",
       "      <td>143.001485</td>\n",
       "      <td>105.028744</td>\n",
       "      <td>29.309475</td>\n",
       "      <td>497635</td>\n",
       "      <td>1172853</td>\n",
       "    </tr>\n",
       "    <tr>\n",
       "      <th>...</th>\n",
       "      <td>...</td>\n",
       "      <td>...</td>\n",
       "      <td>...</td>\n",
       "      <td>...</td>\n",
       "      <td>...</td>\n",
       "      <td>...</td>\n",
       "      <td>...</td>\n",
       "      <td>...</td>\n",
       "    </tr>\n",
       "    <tr>\n",
       "      <th>2</th>\n",
       "      <td>130.237985</td>\n",
       "      <td>96.829654</td>\n",
       "      <td>55.391238</td>\n",
       "      <td>192.464646</td>\n",
       "      <td>175.431464</td>\n",
       "      <td>99.668104</td>\n",
       "      <td>423478</td>\n",
       "      <td>188946</td>\n",
       "    </tr>\n",
       "    <tr>\n",
       "      <th>165</th>\n",
       "      <td>127.863678</td>\n",
       "      <td>82.818905</td>\n",
       "      <td>38.028266</td>\n",
       "      <td>200.589376</td>\n",
       "      <td>144.889043</td>\n",
       "      <td>66.144157</td>\n",
       "      <td>1449553</td>\n",
       "      <td>887541</td>\n",
       "    </tr>\n",
       "    <tr>\n",
       "      <th>481</th>\n",
       "      <td>142.967475</td>\n",
       "      <td>100.163812</td>\n",
       "      <td>55.602623</td>\n",
       "      <td>205.661227</td>\n",
       "      <td>197.324821</td>\n",
       "      <td>133.248630</td>\n",
       "      <td>2290964</td>\n",
       "      <td>1511104</td>\n",
       "    </tr>\n",
       "    <tr>\n",
       "      <th>665</th>\n",
       "      <td>153.179112</td>\n",
       "      <td>89.003745</td>\n",
       "      <td>36.146932</td>\n",
       "      <td>231.986014</td>\n",
       "      <td>174.261103</td>\n",
       "      <td>74.694848</td>\n",
       "      <td>1150758</td>\n",
       "      <td>993652</td>\n",
       "    </tr>\n",
       "    <tr>\n",
       "      <th>627</th>\n",
       "      <td>148.899006</td>\n",
       "      <td>92.164342</td>\n",
       "      <td>34.320675</td>\n",
       "      <td>229.107625</td>\n",
       "      <td>173.975965</td>\n",
       "      <td>54.275904</td>\n",
       "      <td>530225</td>\n",
       "      <td>1072794</td>\n",
       "    </tr>\n",
       "  </tbody>\n",
       "</table>\n",
       "<p>67 rows × 8 columns</p>\n",
       "</div>"
      ],
      "text/plain": [
       "     correct_red  correct_green  correct_blue  rotten_red  rotten_green  \\\n",
       "361   111.510270      90.623880     45.624379  176.097930    163.451583   \n",
       "158   140.283703      87.008768     36.394638  213.108779    147.575972   \n",
       "480   143.355132     100.298904     55.372565  204.665378    196.123543   \n",
       "640   143.749033      75.836217     37.409898  236.244667    162.238175   \n",
       "275   197.196272     188.701427     96.619021  143.001485    105.028744   \n",
       "..           ...            ...           ...         ...           ...   \n",
       "2     130.237985      96.829654     55.391238  192.464646    175.431464   \n",
       "165   127.863678      82.818905     38.028266  200.589376    144.889043   \n",
       "481   142.967475     100.163812     55.602623  205.661227    197.324821   \n",
       "665   153.179112      89.003745     36.146932  231.986014    174.261103   \n",
       "627   148.899006      92.164342     34.320675  229.107625    173.975965   \n",
       "\n",
       "     rotten_blue  len_correct_part  len_rotten_part  \n",
       "361   103.702660           1576278           903843  \n",
       "158    62.671916           1352378          1363271  \n",
       "480   131.739151           2290172          1502030  \n",
       "640    66.712335            557495           960754  \n",
       "275    29.309475            497635          1172853  \n",
       "..           ...               ...              ...  \n",
       "2      99.668104            423478           188946  \n",
       "165    66.144157           1449553           887541  \n",
       "481   133.248630           2290964          1511104  \n",
       "665    74.694848           1150758           993652  \n",
       "627    54.275904            530225          1072794  \n",
       "\n",
       "[67 rows x 8 columns]"
      ]
     },
     "execution_count": 15,
     "metadata": {},
     "output_type": "execute_result"
    }
   ],
   "source": [
    "X_test"
   ]
  },
  {
   "cell_type": "code",
   "execution_count": 16,
   "id": "1cea08b2-b134-4fcc-9cf3-70a8ae42174b",
   "metadata": {},
   "outputs": [
    {
     "data": {
      "text/plain": [
       "300    C\n",
       "60     D\n",
       "133    D\n",
       "30     D\n",
       "69     D\n",
       "      ..\n",
       "71     D\n",
       "106    D\n",
       "270    C\n",
       "435    A\n",
       "102    D\n",
       "Name: class_fruit, Length: 603, dtype: object"
      ]
     },
     "execution_count": 16,
     "metadata": {},
     "output_type": "execute_result"
    }
   ],
   "source": [
    "y_train"
   ]
  },
  {
   "cell_type": "code",
   "execution_count": 17,
   "id": "e977d488-8cfc-43bb-a953-25f2a201e4fd",
   "metadata": {},
   "outputs": [
    {
     "data": {
      "text/plain": [
       "361    B\n",
       "158    D\n",
       "480    A\n",
       "640    A\n",
       "275    C\n",
       "      ..\n",
       "2      D\n",
       "165    D\n",
       "481    A\n",
       "665    A\n",
       "627    A\n",
       "Name: class_fruit, Length: 67, dtype: object"
      ]
     },
     "execution_count": 17,
     "metadata": {},
     "output_type": "execute_result"
    }
   ],
   "source": [
    "y_test"
   ]
  },
  {
   "cell_type": "code",
   "execution_count": 18,
   "id": "57899b56-2b58-4f7e-bd28-6ab08b25e04f",
   "metadata": {},
   "outputs": [
    {
     "name": "stdout",
     "output_type": "stream",
     "text": [
      "X_test 67\n",
      "y_test 67\n",
      "X_train 603\n",
      "y_train 603\n"
     ]
    }
   ],
   "source": [
    "print('X_test',len(X_test))\n",
    "print('y_test',len(y_test))\n",
    "print('X_train',len(X_train))\n",
    "print( 'y_train',len(y_train))"
   ]
  },
  {
   "cell_type": "code",
   "execution_count": 27,
   "id": "5717d42a-270c-4236-b8fd-b91d2ff626ce",
   "metadata": {},
   "outputs": [],
   "source": [
    "tree=DecisionTreeClassifier(max_depth=7,random_state=42)"
   ]
  },
  {
   "cell_type": "code",
   "execution_count": 70,
   "id": "4487aef3-4bff-4bdf-bbd7-af1dbcd73c02",
   "metadata": {},
   "outputs": [],
   "source": [
    "tree1=DecisionTreeClassifier(max_depth=7,random_state=42)"
   ]
  },
  {
   "cell_type": "code",
   "execution_count": 28,
   "id": "4211929f-5a75-4084-99fd-d5338a7a320d",
   "metadata": {},
   "outputs": [
    {
     "data": {
      "text/html": [
       "<style>#sk-container-id-3 {color: black;background-color: white;}#sk-container-id-3 pre{padding: 0;}#sk-container-id-3 div.sk-toggleable {background-color: white;}#sk-container-id-3 label.sk-toggleable__label {cursor: pointer;display: block;width: 100%;margin-bottom: 0;padding: 0.3em;box-sizing: border-box;text-align: center;}#sk-container-id-3 label.sk-toggleable__label-arrow:before {content: \"▸\";float: left;margin-right: 0.25em;color: #696969;}#sk-container-id-3 label.sk-toggleable__label-arrow:hover:before {color: black;}#sk-container-id-3 div.sk-estimator:hover label.sk-toggleable__label-arrow:before {color: black;}#sk-container-id-3 div.sk-toggleable__content {max-height: 0;max-width: 0;overflow: hidden;text-align: left;background-color: #f0f8ff;}#sk-container-id-3 div.sk-toggleable__content pre {margin: 0.2em;color: black;border-radius: 0.25em;background-color: #f0f8ff;}#sk-container-id-3 input.sk-toggleable__control:checked~div.sk-toggleable__content {max-height: 200px;max-width: 100%;overflow: auto;}#sk-container-id-3 input.sk-toggleable__control:checked~label.sk-toggleable__label-arrow:before {content: \"▾\";}#sk-container-id-3 div.sk-estimator input.sk-toggleable__control:checked~label.sk-toggleable__label {background-color: #d4ebff;}#sk-container-id-3 div.sk-label input.sk-toggleable__control:checked~label.sk-toggleable__label {background-color: #d4ebff;}#sk-container-id-3 input.sk-hidden--visually {border: 0;clip: rect(1px 1px 1px 1px);clip: rect(1px, 1px, 1px, 1px);height: 1px;margin: -1px;overflow: hidden;padding: 0;position: absolute;width: 1px;}#sk-container-id-3 div.sk-estimator {font-family: monospace;background-color: #f0f8ff;border: 1px dotted black;border-radius: 0.25em;box-sizing: border-box;margin-bottom: 0.5em;}#sk-container-id-3 div.sk-estimator:hover {background-color: #d4ebff;}#sk-container-id-3 div.sk-parallel-item::after {content: \"\";width: 100%;border-bottom: 1px solid gray;flex-grow: 1;}#sk-container-id-3 div.sk-label:hover label.sk-toggleable__label {background-color: #d4ebff;}#sk-container-id-3 div.sk-serial::before {content: \"\";position: absolute;border-left: 1px solid gray;box-sizing: border-box;top: 0;bottom: 0;left: 50%;z-index: 0;}#sk-container-id-3 div.sk-serial {display: flex;flex-direction: column;align-items: center;background-color: white;padding-right: 0.2em;padding-left: 0.2em;position: relative;}#sk-container-id-3 div.sk-item {position: relative;z-index: 1;}#sk-container-id-3 div.sk-parallel {display: flex;align-items: stretch;justify-content: center;background-color: white;position: relative;}#sk-container-id-3 div.sk-item::before, #sk-container-id-3 div.sk-parallel-item::before {content: \"\";position: absolute;border-left: 1px solid gray;box-sizing: border-box;top: 0;bottom: 0;left: 50%;z-index: -1;}#sk-container-id-3 div.sk-parallel-item {display: flex;flex-direction: column;z-index: 1;position: relative;background-color: white;}#sk-container-id-3 div.sk-parallel-item:first-child::after {align-self: flex-end;width: 50%;}#sk-container-id-3 div.sk-parallel-item:last-child::after {align-self: flex-start;width: 50%;}#sk-container-id-3 div.sk-parallel-item:only-child::after {width: 0;}#sk-container-id-3 div.sk-dashed-wrapped {border: 1px dashed gray;margin: 0 0.4em 0.5em 0.4em;box-sizing: border-box;padding-bottom: 0.4em;background-color: white;}#sk-container-id-3 div.sk-label label {font-family: monospace;font-weight: bold;display: inline-block;line-height: 1.2em;}#sk-container-id-3 div.sk-label-container {text-align: center;}#sk-container-id-3 div.sk-container {/* jupyter's `normalize.less` sets `[hidden] { display: none; }` but bootstrap.min.css set `[hidden] { display: none !important; }` so we also need the `!important` here to be able to override the default hidden behavior on the sphinx rendered scikit-learn.org. See: https://github.com/scikit-learn/scikit-learn/issues/21755 */display: inline-block !important;position: relative;}#sk-container-id-3 div.sk-text-repr-fallback {display: none;}</style><div id=\"sk-container-id-3\" class=\"sk-top-container\"><div class=\"sk-text-repr-fallback\"><pre>DecisionTreeClassifier(max_depth=7, random_state=42)</pre><b>In a Jupyter environment, please rerun this cell to show the HTML representation or trust the notebook. <br />On GitHub, the HTML representation is unable to render, please try loading this page with nbviewer.org.</b></div><div class=\"sk-container\" hidden><div class=\"sk-item\"><div class=\"sk-estimator sk-toggleable\"><input class=\"sk-toggleable__control sk-hidden--visually\" id=\"sk-estimator-id-3\" type=\"checkbox\" checked><label for=\"sk-estimator-id-3\" class=\"sk-toggleable__label sk-toggleable__label-arrow\">DecisionTreeClassifier</label><div class=\"sk-toggleable__content\"><pre>DecisionTreeClassifier(max_depth=7, random_state=42)</pre></div></div></div></div></div>"
      ],
      "text/plain": [
       "DecisionTreeClassifier(max_depth=7, random_state=42)"
      ]
     },
     "execution_count": 28,
     "metadata": {},
     "output_type": "execute_result"
    }
   ],
   "source": [
    "tree.fit(X_train,y_train)"
   ]
  },
  {
   "cell_type": "code",
   "execution_count": 29,
   "id": "2b3d6736-222b-4c1e-8fbe-c5a6a08f2e79",
   "metadata": {},
   "outputs": [],
   "source": [
    "res=tree.predict(X_test)"
   ]
  },
  {
   "cell_type": "code",
   "execution_count": 30,
   "id": "1c660d97-0df7-4a0b-91d7-ef983c69c6af",
   "metadata": {},
   "outputs": [
    {
     "name": "stdout",
     "output_type": "stream",
     "text": [
      "Accuracy: 0.7313432835820896\n"
     ]
    }
   ],
   "source": [
    "print(\"Accuracy:\",metrics.accuracy_score(y_test, res))"
   ]
  },
  {
   "cell_type": "code",
   "execution_count": 35,
   "id": "7cf9f3ad-ecaf-44bc-bf5e-bd63f5720253",
   "metadata": {},
   "outputs": [],
   "source": [
    "knn=KNeighborsClassifier(n_neighbors=1)"
   ]
  },
  {
   "cell_type": "code",
   "execution_count": 36,
   "id": "5b95b0ad-617c-44bf-a70c-636cfecfd070",
   "metadata": {},
   "outputs": [
    {
     "data": {
      "text/html": [
       "<style>#sk-container-id-5 {color: black;background-color: white;}#sk-container-id-5 pre{padding: 0;}#sk-container-id-5 div.sk-toggleable {background-color: white;}#sk-container-id-5 label.sk-toggleable__label {cursor: pointer;display: block;width: 100%;margin-bottom: 0;padding: 0.3em;box-sizing: border-box;text-align: center;}#sk-container-id-5 label.sk-toggleable__label-arrow:before {content: \"▸\";float: left;margin-right: 0.25em;color: #696969;}#sk-container-id-5 label.sk-toggleable__label-arrow:hover:before {color: black;}#sk-container-id-5 div.sk-estimator:hover label.sk-toggleable__label-arrow:before {color: black;}#sk-container-id-5 div.sk-toggleable__content {max-height: 0;max-width: 0;overflow: hidden;text-align: left;background-color: #f0f8ff;}#sk-container-id-5 div.sk-toggleable__content pre {margin: 0.2em;color: black;border-radius: 0.25em;background-color: #f0f8ff;}#sk-container-id-5 input.sk-toggleable__control:checked~div.sk-toggleable__content {max-height: 200px;max-width: 100%;overflow: auto;}#sk-container-id-5 input.sk-toggleable__control:checked~label.sk-toggleable__label-arrow:before {content: \"▾\";}#sk-container-id-5 div.sk-estimator input.sk-toggleable__control:checked~label.sk-toggleable__label {background-color: #d4ebff;}#sk-container-id-5 div.sk-label input.sk-toggleable__control:checked~label.sk-toggleable__label {background-color: #d4ebff;}#sk-container-id-5 input.sk-hidden--visually {border: 0;clip: rect(1px 1px 1px 1px);clip: rect(1px, 1px, 1px, 1px);height: 1px;margin: -1px;overflow: hidden;padding: 0;position: absolute;width: 1px;}#sk-container-id-5 div.sk-estimator {font-family: monospace;background-color: #f0f8ff;border: 1px dotted black;border-radius: 0.25em;box-sizing: border-box;margin-bottom: 0.5em;}#sk-container-id-5 div.sk-estimator:hover {background-color: #d4ebff;}#sk-container-id-5 div.sk-parallel-item::after {content: \"\";width: 100%;border-bottom: 1px solid gray;flex-grow: 1;}#sk-container-id-5 div.sk-label:hover label.sk-toggleable__label {background-color: #d4ebff;}#sk-container-id-5 div.sk-serial::before {content: \"\";position: absolute;border-left: 1px solid gray;box-sizing: border-box;top: 0;bottom: 0;left: 50%;z-index: 0;}#sk-container-id-5 div.sk-serial {display: flex;flex-direction: column;align-items: center;background-color: white;padding-right: 0.2em;padding-left: 0.2em;position: relative;}#sk-container-id-5 div.sk-item {position: relative;z-index: 1;}#sk-container-id-5 div.sk-parallel {display: flex;align-items: stretch;justify-content: center;background-color: white;position: relative;}#sk-container-id-5 div.sk-item::before, #sk-container-id-5 div.sk-parallel-item::before {content: \"\";position: absolute;border-left: 1px solid gray;box-sizing: border-box;top: 0;bottom: 0;left: 50%;z-index: -1;}#sk-container-id-5 div.sk-parallel-item {display: flex;flex-direction: column;z-index: 1;position: relative;background-color: white;}#sk-container-id-5 div.sk-parallel-item:first-child::after {align-self: flex-end;width: 50%;}#sk-container-id-5 div.sk-parallel-item:last-child::after {align-self: flex-start;width: 50%;}#sk-container-id-5 div.sk-parallel-item:only-child::after {width: 0;}#sk-container-id-5 div.sk-dashed-wrapped {border: 1px dashed gray;margin: 0 0.4em 0.5em 0.4em;box-sizing: border-box;padding-bottom: 0.4em;background-color: white;}#sk-container-id-5 div.sk-label label {font-family: monospace;font-weight: bold;display: inline-block;line-height: 1.2em;}#sk-container-id-5 div.sk-label-container {text-align: center;}#sk-container-id-5 div.sk-container {/* jupyter's `normalize.less` sets `[hidden] { display: none; }` but bootstrap.min.css set `[hidden] { display: none !important; }` so we also need the `!important` here to be able to override the default hidden behavior on the sphinx rendered scikit-learn.org. See: https://github.com/scikit-learn/scikit-learn/issues/21755 */display: inline-block !important;position: relative;}#sk-container-id-5 div.sk-text-repr-fallback {display: none;}</style><div id=\"sk-container-id-5\" class=\"sk-top-container\"><div class=\"sk-text-repr-fallback\"><pre>KNeighborsClassifier(n_neighbors=1)</pre><b>In a Jupyter environment, please rerun this cell to show the HTML representation or trust the notebook. <br />On GitHub, the HTML representation is unable to render, please try loading this page with nbviewer.org.</b></div><div class=\"sk-container\" hidden><div class=\"sk-item\"><div class=\"sk-estimator sk-toggleable\"><input class=\"sk-toggleable__control sk-hidden--visually\" id=\"sk-estimator-id-5\" type=\"checkbox\" checked><label for=\"sk-estimator-id-5\" class=\"sk-toggleable__label sk-toggleable__label-arrow\">KNeighborsClassifier</label><div class=\"sk-toggleable__content\"><pre>KNeighborsClassifier(n_neighbors=1)</pre></div></div></div></div></div>"
      ],
      "text/plain": [
       "KNeighborsClassifier(n_neighbors=1)"
      ]
     },
     "execution_count": 36,
     "metadata": {},
     "output_type": "execute_result"
    }
   ],
   "source": [
    "knn.fit(X_train,y_train)"
   ]
  },
  {
   "cell_type": "code",
   "execution_count": 37,
   "id": "dc084dd7-e7f8-4d28-a862-218adfee2088",
   "metadata": {},
   "outputs": [],
   "source": [
    "pre=knn.predict(X_test)"
   ]
  },
  {
   "cell_type": "code",
   "execution_count": 38,
   "id": "64fc5b8b-0633-4a09-8056-26053ff71068",
   "metadata": {},
   "outputs": [
    {
     "name": "stdout",
     "output_type": "stream",
     "text": [
      "Accuracy: 0.6865671641791045\n"
     ]
    }
   ],
   "source": [
    "print(\"Accuracy:\",metrics.accuracy_score(y_test, pre))"
   ]
  },
  {
   "cell_type": "code",
   "execution_count": 39,
   "id": "038701c9-4017-459a-92a7-9fa0abc2f74c",
   "metadata": {},
   "outputs": [
    {
     "data": {
      "text/plain": [
       "('rfc', RandomForestClassifier())"
      ]
     },
     "execution_count": 39,
     "metadata": {},
     "output_type": "execute_result"
    }
   ],
   "source": [
    "svc=SVC()\n",
    "rfc=RandomForestClassifier()\n",
    "dt=DecisionTreeClassifier()\n",
    "# knn1=KNeighborsClassifier()\n",
    "('svc',svc)\n",
    "('rfc',rfc)\n",
    "('ada_clf',ada_clf),"
   ]
  },
  {
   "cell_type": "code",
   "execution_count": 75,
   "id": "0d3fbac8-7774-47af-ae23-fd04a4cdabdd",
   "metadata": {},
   "outputs": [
    {
     "name": "stdout",
     "output_type": "stream",
     "text": [
      "0.7313432835820896\n"
     ]
    }
   ],
   "source": [
    "tree1.fit(X_train,y_train)\n",
    "res=tree1.predict(X_test)\n",
    "print(metrics.accuracy_score(y_test,res))"
   ]
  },
  {
   "cell_type": "code",
   "execution_count": 85,
   "id": "4c756627-a53d-4bcf-9ede-9d29e2efd5fd",
   "metadata": {},
   "outputs": [],
   "source": [
    "voting_clf=VotingClassifier(\n",
    "    estimators=[('tree',tree),('rfc',rfc),('ada_clf',ada_clf),('knn',knn)],\n",
    "    voting='hard')"
   ]
  },
  {
   "cell_type": "code",
   "execution_count": 86,
   "id": "10c9e2df-c8bc-4aa5-b021-f0de44700486",
   "metadata": {},
   "outputs": [
    {
     "data": {
      "text/html": [
       "<style>#sk-container-id-16 {color: black;background-color: white;}#sk-container-id-16 pre{padding: 0;}#sk-container-id-16 div.sk-toggleable {background-color: white;}#sk-container-id-16 label.sk-toggleable__label {cursor: pointer;display: block;width: 100%;margin-bottom: 0;padding: 0.3em;box-sizing: border-box;text-align: center;}#sk-container-id-16 label.sk-toggleable__label-arrow:before {content: \"▸\";float: left;margin-right: 0.25em;color: #696969;}#sk-container-id-16 label.sk-toggleable__label-arrow:hover:before {color: black;}#sk-container-id-16 div.sk-estimator:hover label.sk-toggleable__label-arrow:before {color: black;}#sk-container-id-16 div.sk-toggleable__content {max-height: 0;max-width: 0;overflow: hidden;text-align: left;background-color: #f0f8ff;}#sk-container-id-16 div.sk-toggleable__content pre {margin: 0.2em;color: black;border-radius: 0.25em;background-color: #f0f8ff;}#sk-container-id-16 input.sk-toggleable__control:checked~div.sk-toggleable__content {max-height: 200px;max-width: 100%;overflow: auto;}#sk-container-id-16 input.sk-toggleable__control:checked~label.sk-toggleable__label-arrow:before {content: \"▾\";}#sk-container-id-16 div.sk-estimator input.sk-toggleable__control:checked~label.sk-toggleable__label {background-color: #d4ebff;}#sk-container-id-16 div.sk-label input.sk-toggleable__control:checked~label.sk-toggleable__label {background-color: #d4ebff;}#sk-container-id-16 input.sk-hidden--visually {border: 0;clip: rect(1px 1px 1px 1px);clip: rect(1px, 1px, 1px, 1px);height: 1px;margin: -1px;overflow: hidden;padding: 0;position: absolute;width: 1px;}#sk-container-id-16 div.sk-estimator {font-family: monospace;background-color: #f0f8ff;border: 1px dotted black;border-radius: 0.25em;box-sizing: border-box;margin-bottom: 0.5em;}#sk-container-id-16 div.sk-estimator:hover {background-color: #d4ebff;}#sk-container-id-16 div.sk-parallel-item::after {content: \"\";width: 100%;border-bottom: 1px solid gray;flex-grow: 1;}#sk-container-id-16 div.sk-label:hover label.sk-toggleable__label {background-color: #d4ebff;}#sk-container-id-16 div.sk-serial::before {content: \"\";position: absolute;border-left: 1px solid gray;box-sizing: border-box;top: 0;bottom: 0;left: 50%;z-index: 0;}#sk-container-id-16 div.sk-serial {display: flex;flex-direction: column;align-items: center;background-color: white;padding-right: 0.2em;padding-left: 0.2em;position: relative;}#sk-container-id-16 div.sk-item {position: relative;z-index: 1;}#sk-container-id-16 div.sk-parallel {display: flex;align-items: stretch;justify-content: center;background-color: white;position: relative;}#sk-container-id-16 div.sk-item::before, #sk-container-id-16 div.sk-parallel-item::before {content: \"\";position: absolute;border-left: 1px solid gray;box-sizing: border-box;top: 0;bottom: 0;left: 50%;z-index: -1;}#sk-container-id-16 div.sk-parallel-item {display: flex;flex-direction: column;z-index: 1;position: relative;background-color: white;}#sk-container-id-16 div.sk-parallel-item:first-child::after {align-self: flex-end;width: 50%;}#sk-container-id-16 div.sk-parallel-item:last-child::after {align-self: flex-start;width: 50%;}#sk-container-id-16 div.sk-parallel-item:only-child::after {width: 0;}#sk-container-id-16 div.sk-dashed-wrapped {border: 1px dashed gray;margin: 0 0.4em 0.5em 0.4em;box-sizing: border-box;padding-bottom: 0.4em;background-color: white;}#sk-container-id-16 div.sk-label label {font-family: monospace;font-weight: bold;display: inline-block;line-height: 1.2em;}#sk-container-id-16 div.sk-label-container {text-align: center;}#sk-container-id-16 div.sk-container {/* jupyter's `normalize.less` sets `[hidden] { display: none; }` but bootstrap.min.css set `[hidden] { display: none !important; }` so we also need the `!important` here to be able to override the default hidden behavior on the sphinx rendered scikit-learn.org. See: https://github.com/scikit-learn/scikit-learn/issues/21755 */display: inline-block !important;position: relative;}#sk-container-id-16 div.sk-text-repr-fallback {display: none;}</style><div id=\"sk-container-id-16\" class=\"sk-top-container\"><div class=\"sk-text-repr-fallback\"><pre>VotingClassifier(estimators=[(&#x27;tree&#x27;,\n",
       "                              DecisionTreeClassifier(max_depth=7,\n",
       "                                                     random_state=42)),\n",
       "                             (&#x27;rfc&#x27;, RandomForestClassifier()),\n",
       "                             (&#x27;ada_clf&#x27;,\n",
       "                              AdaBoostClassifier(estimator=DecisionTreeClassifier(max_depth=3),\n",
       "                                                 learning_rate=0.01,\n",
       "                                                 n_estimators=200)),\n",
       "                             (&#x27;knn&#x27;, KNeighborsClassifier(n_neighbors=1))])</pre><b>In a Jupyter environment, please rerun this cell to show the HTML representation or trust the notebook. <br />On GitHub, the HTML representation is unable to render, please try loading this page with nbviewer.org.</b></div><div class=\"sk-container\" hidden><div class=\"sk-item sk-dashed-wrapped\"><div class=\"sk-label-container\"><div class=\"sk-label sk-toggleable\"><input class=\"sk-toggleable__control sk-hidden--visually\" id=\"sk-estimator-id-49\" type=\"checkbox\" ><label for=\"sk-estimator-id-49\" class=\"sk-toggleable__label sk-toggleable__label-arrow\">VotingClassifier</label><div class=\"sk-toggleable__content\"><pre>VotingClassifier(estimators=[(&#x27;tree&#x27;,\n",
       "                              DecisionTreeClassifier(max_depth=7,\n",
       "                                                     random_state=42)),\n",
       "                             (&#x27;rfc&#x27;, RandomForestClassifier()),\n",
       "                             (&#x27;ada_clf&#x27;,\n",
       "                              AdaBoostClassifier(estimator=DecisionTreeClassifier(max_depth=3),\n",
       "                                                 learning_rate=0.01,\n",
       "                                                 n_estimators=200)),\n",
       "                             (&#x27;knn&#x27;, KNeighborsClassifier(n_neighbors=1))])</pre></div></div></div><div class=\"sk-parallel\"><div class=\"sk-parallel-item\"><div class=\"sk-item\"><div class=\"sk-label-container\"><div class=\"sk-label sk-toggleable\"><label>tree</label></div></div><div class=\"sk-serial\"><div class=\"sk-item\"><div class=\"sk-estimator sk-toggleable\"><input class=\"sk-toggleable__control sk-hidden--visually\" id=\"sk-estimator-id-50\" type=\"checkbox\" ><label for=\"sk-estimator-id-50\" class=\"sk-toggleable__label sk-toggleable__label-arrow\">DecisionTreeClassifier</label><div class=\"sk-toggleable__content\"><pre>DecisionTreeClassifier(max_depth=7, random_state=42)</pre></div></div></div></div></div></div><div class=\"sk-parallel-item\"><div class=\"sk-item\"><div class=\"sk-label-container\"><div class=\"sk-label sk-toggleable\"><label>rfc</label></div></div><div class=\"sk-serial\"><div class=\"sk-item\"><div class=\"sk-estimator sk-toggleable\"><input class=\"sk-toggleable__control sk-hidden--visually\" id=\"sk-estimator-id-51\" type=\"checkbox\" ><label for=\"sk-estimator-id-51\" class=\"sk-toggleable__label sk-toggleable__label-arrow\">RandomForestClassifier</label><div class=\"sk-toggleable__content\"><pre>RandomForestClassifier()</pre></div></div></div></div></div></div><div class=\"sk-parallel-item\"><div class=\"sk-item\"><div class=\"sk-label-container\"><div class=\"sk-label sk-toggleable\"><label>ada_clf</label></div></div><div class=\"sk-serial\"><div class=\"sk-item sk-dashed-wrapped\"><div class=\"sk-parallel\"><div class=\"sk-parallel-item\"><div class=\"sk-item\"><div class=\"sk-label-container\"><div class=\"sk-label sk-toggleable\"><input class=\"sk-toggleable__control sk-hidden--visually\" id=\"sk-estimator-id-52\" type=\"checkbox\" ><label for=\"sk-estimator-id-52\" class=\"sk-toggleable__label sk-toggleable__label-arrow\">estimator: DecisionTreeClassifier</label><div class=\"sk-toggleable__content\"><pre>DecisionTreeClassifier(max_depth=3)</pre></div></div></div><div class=\"sk-serial\"><div class=\"sk-item\"><div class=\"sk-estimator sk-toggleable\"><input class=\"sk-toggleable__control sk-hidden--visually\" id=\"sk-estimator-id-53\" type=\"checkbox\" ><label for=\"sk-estimator-id-53\" class=\"sk-toggleable__label sk-toggleable__label-arrow\">DecisionTreeClassifier</label><div class=\"sk-toggleable__content\"><pre>DecisionTreeClassifier(max_depth=3)</pre></div></div></div></div></div></div></div></div></div></div></div><div class=\"sk-parallel-item\"><div class=\"sk-item\"><div class=\"sk-label-container\"><div class=\"sk-label sk-toggleable\"><label>knn</label></div></div><div class=\"sk-serial\"><div class=\"sk-item\"><div class=\"sk-estimator sk-toggleable\"><input class=\"sk-toggleable__control sk-hidden--visually\" id=\"sk-estimator-id-54\" type=\"checkbox\" ><label for=\"sk-estimator-id-54\" class=\"sk-toggleable__label sk-toggleable__label-arrow\">KNeighborsClassifier</label><div class=\"sk-toggleable__content\"><pre>KNeighborsClassifier(n_neighbors=1)</pre></div></div></div></div></div></div></div></div></div></div>"
      ],
      "text/plain": [
       "VotingClassifier(estimators=[('tree',\n",
       "                              DecisionTreeClassifier(max_depth=7,\n",
       "                                                     random_state=42)),\n",
       "                             ('rfc', RandomForestClassifier()),\n",
       "                             ('ada_clf',\n",
       "                              AdaBoostClassifier(estimator=DecisionTreeClassifier(max_depth=3),\n",
       "                                                 learning_rate=0.01,\n",
       "                                                 n_estimators=200)),\n",
       "                             ('knn', KNeighborsClassifier(n_neighbors=1))])"
      ]
     },
     "execution_count": 86,
     "metadata": {},
     "output_type": "execute_result"
    }
   ],
   "source": [
    "voting_clf.fit(X_train,y_train)"
   ]
  },
  {
   "cell_type": "code",
   "execution_count": 87,
   "id": "3351c2b4-781e-4d9a-b4a0-51e1df30d57b",
   "metadata": {},
   "outputs": [],
   "source": [
    "res=voting_clf.predict(X_test)"
   ]
  },
  {
   "cell_type": "code",
   "execution_count": 88,
   "id": "ddd9d610-2912-4a8a-8077-0f833f21c4d1",
   "metadata": {},
   "outputs": [
    {
     "name": "stdout",
     "output_type": "stream",
     "text": [
      "Accuracy: 0.8507462686567164\n"
     ]
    }
   ],
   "source": [
    "print(\"Accuracy:\",metrics.accuracy_score(y_test, res))"
   ]
  },
  {
   "cell_type": "code",
   "execution_count": 89,
   "id": "8ef75eb4-2dbc-4f67-a255-85af3f09cac3",
   "metadata": {},
   "outputs": [
    {
     "data": {
      "text/plain": [
       "['votig_clf.pkl']"
      ]
     },
     "execution_count": 89,
     "metadata": {},
     "output_type": "execute_result"
    }
   ],
   "source": [
    "import joblib\n",
    "joblib.dump(voting_clf,'votig_clf.pkl')"
   ]
  },
  {
   "cell_type": "code",
   "execution_count": 5,
   "id": "16ed960f-ad31-41db-890e-1cbe8d1ef1a7",
   "metadata": {},
   "outputs": [],
   "source": [
    "import joblib"
   ]
  },
  {
   "cell_type": "code",
   "execution_count": 44,
   "id": "3d012e25-c553-46ef-a720-1fd2b2b3b90b",
   "metadata": {},
   "outputs": [],
   "source": [
    "rnd_clf=RandomForestClassifier(n_estimators=100,max_leaf_nodes=5,n_jobs=-1,bootstrap=True,oob_score=True,max_samples=200)"
   ]
  },
  {
   "cell_type": "code",
   "execution_count": 45,
   "id": "9518d889-de1c-43f9-8e34-3aece958d917",
   "metadata": {},
   "outputs": [
    {
     "data": {
      "text/html": [
       "<style>#sk-container-id-7 {color: black;background-color: white;}#sk-container-id-7 pre{padding: 0;}#sk-container-id-7 div.sk-toggleable {background-color: white;}#sk-container-id-7 label.sk-toggleable__label {cursor: pointer;display: block;width: 100%;margin-bottom: 0;padding: 0.3em;box-sizing: border-box;text-align: center;}#sk-container-id-7 label.sk-toggleable__label-arrow:before {content: \"▸\";float: left;margin-right: 0.25em;color: #696969;}#sk-container-id-7 label.sk-toggleable__label-arrow:hover:before {color: black;}#sk-container-id-7 div.sk-estimator:hover label.sk-toggleable__label-arrow:before {color: black;}#sk-container-id-7 div.sk-toggleable__content {max-height: 0;max-width: 0;overflow: hidden;text-align: left;background-color: #f0f8ff;}#sk-container-id-7 div.sk-toggleable__content pre {margin: 0.2em;color: black;border-radius: 0.25em;background-color: #f0f8ff;}#sk-container-id-7 input.sk-toggleable__control:checked~div.sk-toggleable__content {max-height: 200px;max-width: 100%;overflow: auto;}#sk-container-id-7 input.sk-toggleable__control:checked~label.sk-toggleable__label-arrow:before {content: \"▾\";}#sk-container-id-7 div.sk-estimator input.sk-toggleable__control:checked~label.sk-toggleable__label {background-color: #d4ebff;}#sk-container-id-7 div.sk-label input.sk-toggleable__control:checked~label.sk-toggleable__label {background-color: #d4ebff;}#sk-container-id-7 input.sk-hidden--visually {border: 0;clip: rect(1px 1px 1px 1px);clip: rect(1px, 1px, 1px, 1px);height: 1px;margin: -1px;overflow: hidden;padding: 0;position: absolute;width: 1px;}#sk-container-id-7 div.sk-estimator {font-family: monospace;background-color: #f0f8ff;border: 1px dotted black;border-radius: 0.25em;box-sizing: border-box;margin-bottom: 0.5em;}#sk-container-id-7 div.sk-estimator:hover {background-color: #d4ebff;}#sk-container-id-7 div.sk-parallel-item::after {content: \"\";width: 100%;border-bottom: 1px solid gray;flex-grow: 1;}#sk-container-id-7 div.sk-label:hover label.sk-toggleable__label {background-color: #d4ebff;}#sk-container-id-7 div.sk-serial::before {content: \"\";position: absolute;border-left: 1px solid gray;box-sizing: border-box;top: 0;bottom: 0;left: 50%;z-index: 0;}#sk-container-id-7 div.sk-serial {display: flex;flex-direction: column;align-items: center;background-color: white;padding-right: 0.2em;padding-left: 0.2em;position: relative;}#sk-container-id-7 div.sk-item {position: relative;z-index: 1;}#sk-container-id-7 div.sk-parallel {display: flex;align-items: stretch;justify-content: center;background-color: white;position: relative;}#sk-container-id-7 div.sk-item::before, #sk-container-id-7 div.sk-parallel-item::before {content: \"\";position: absolute;border-left: 1px solid gray;box-sizing: border-box;top: 0;bottom: 0;left: 50%;z-index: -1;}#sk-container-id-7 div.sk-parallel-item {display: flex;flex-direction: column;z-index: 1;position: relative;background-color: white;}#sk-container-id-7 div.sk-parallel-item:first-child::after {align-self: flex-end;width: 50%;}#sk-container-id-7 div.sk-parallel-item:last-child::after {align-self: flex-start;width: 50%;}#sk-container-id-7 div.sk-parallel-item:only-child::after {width: 0;}#sk-container-id-7 div.sk-dashed-wrapped {border: 1px dashed gray;margin: 0 0.4em 0.5em 0.4em;box-sizing: border-box;padding-bottom: 0.4em;background-color: white;}#sk-container-id-7 div.sk-label label {font-family: monospace;font-weight: bold;display: inline-block;line-height: 1.2em;}#sk-container-id-7 div.sk-label-container {text-align: center;}#sk-container-id-7 div.sk-container {/* jupyter's `normalize.less` sets `[hidden] { display: none; }` but bootstrap.min.css set `[hidden] { display: none !important; }` so we also need the `!important` here to be able to override the default hidden behavior on the sphinx rendered scikit-learn.org. See: https://github.com/scikit-learn/scikit-learn/issues/21755 */display: inline-block !important;position: relative;}#sk-container-id-7 div.sk-text-repr-fallback {display: none;}</style><div id=\"sk-container-id-7\" class=\"sk-top-container\"><div class=\"sk-text-repr-fallback\"><pre>RandomForestClassifier(max_leaf_nodes=5, max_samples=200, n_jobs=-1,\n",
       "                       oob_score=True)</pre><b>In a Jupyter environment, please rerun this cell to show the HTML representation or trust the notebook. <br />On GitHub, the HTML representation is unable to render, please try loading this page with nbviewer.org.</b></div><div class=\"sk-container\" hidden><div class=\"sk-item\"><div class=\"sk-estimator sk-toggleable\"><input class=\"sk-toggleable__control sk-hidden--visually\" id=\"sk-estimator-id-10\" type=\"checkbox\" checked><label for=\"sk-estimator-id-10\" class=\"sk-toggleable__label sk-toggleable__label-arrow\">RandomForestClassifier</label><div class=\"sk-toggleable__content\"><pre>RandomForestClassifier(max_leaf_nodes=5, max_samples=200, n_jobs=-1,\n",
       "                       oob_score=True)</pre></div></div></div></div></div>"
      ],
      "text/plain": [
       "RandomForestClassifier(max_leaf_nodes=5, max_samples=200, n_jobs=-1,\n",
       "                       oob_score=True)"
      ]
     },
     "execution_count": 45,
     "metadata": {},
     "output_type": "execute_result"
    }
   ],
   "source": [
    "rnd_clf.fit(X_train,y_train)"
   ]
  },
  {
   "cell_type": "code",
   "execution_count": 46,
   "id": "9a38cf0a-fd7c-455e-9c51-01a6a2c45f7a",
   "metadata": {},
   "outputs": [],
   "source": [
    "out=rnd_clf.predict(X_test)"
   ]
  },
  {
   "cell_type": "code",
   "execution_count": 47,
   "id": "9fd3432f-77b5-4b38-9eef-035c8f97c240",
   "metadata": {},
   "outputs": [
    {
     "name": "stdout",
     "output_type": "stream",
     "text": [
      "Accuracy: 0.5522388059701493\n"
     ]
    }
   ],
   "source": [
    "print(\"Accuracy:\",metrics.accuracy_score(y_test, out))"
   ]
  },
  {
   "cell_type": "code",
   "execution_count": 60,
   "id": "bda10fb0-52ab-4964-a8eb-b224ffb8e2b4",
   "metadata": {},
   "outputs": [],
   "source": [
    "ada_clf=AdaBoostClassifier(DecisionTreeClassifier(max_depth=3),n_estimators=200,learning_rate=0.01)"
   ]
  },
  {
   "cell_type": "code",
   "execution_count": 61,
   "id": "7d7335e7-1073-442e-93fc-ef26f8748300",
   "metadata": {},
   "outputs": [
    {
     "data": {
      "text/html": [
       "<style>#sk-container-id-11 {color: black;background-color: white;}#sk-container-id-11 pre{padding: 0;}#sk-container-id-11 div.sk-toggleable {background-color: white;}#sk-container-id-11 label.sk-toggleable__label {cursor: pointer;display: block;width: 100%;margin-bottom: 0;padding: 0.3em;box-sizing: border-box;text-align: center;}#sk-container-id-11 label.sk-toggleable__label-arrow:before {content: \"▸\";float: left;margin-right: 0.25em;color: #696969;}#sk-container-id-11 label.sk-toggleable__label-arrow:hover:before {color: black;}#sk-container-id-11 div.sk-estimator:hover label.sk-toggleable__label-arrow:before {color: black;}#sk-container-id-11 div.sk-toggleable__content {max-height: 0;max-width: 0;overflow: hidden;text-align: left;background-color: #f0f8ff;}#sk-container-id-11 div.sk-toggleable__content pre {margin: 0.2em;color: black;border-radius: 0.25em;background-color: #f0f8ff;}#sk-container-id-11 input.sk-toggleable__control:checked~div.sk-toggleable__content {max-height: 200px;max-width: 100%;overflow: auto;}#sk-container-id-11 input.sk-toggleable__control:checked~label.sk-toggleable__label-arrow:before {content: \"▾\";}#sk-container-id-11 div.sk-estimator input.sk-toggleable__control:checked~label.sk-toggleable__label {background-color: #d4ebff;}#sk-container-id-11 div.sk-label input.sk-toggleable__control:checked~label.sk-toggleable__label {background-color: #d4ebff;}#sk-container-id-11 input.sk-hidden--visually {border: 0;clip: rect(1px 1px 1px 1px);clip: rect(1px, 1px, 1px, 1px);height: 1px;margin: -1px;overflow: hidden;padding: 0;position: absolute;width: 1px;}#sk-container-id-11 div.sk-estimator {font-family: monospace;background-color: #f0f8ff;border: 1px dotted black;border-radius: 0.25em;box-sizing: border-box;margin-bottom: 0.5em;}#sk-container-id-11 div.sk-estimator:hover {background-color: #d4ebff;}#sk-container-id-11 div.sk-parallel-item::after {content: \"\";width: 100%;border-bottom: 1px solid gray;flex-grow: 1;}#sk-container-id-11 div.sk-label:hover label.sk-toggleable__label {background-color: #d4ebff;}#sk-container-id-11 div.sk-serial::before {content: \"\";position: absolute;border-left: 1px solid gray;box-sizing: border-box;top: 0;bottom: 0;left: 50%;z-index: 0;}#sk-container-id-11 div.sk-serial {display: flex;flex-direction: column;align-items: center;background-color: white;padding-right: 0.2em;padding-left: 0.2em;position: relative;}#sk-container-id-11 div.sk-item {position: relative;z-index: 1;}#sk-container-id-11 div.sk-parallel {display: flex;align-items: stretch;justify-content: center;background-color: white;position: relative;}#sk-container-id-11 div.sk-item::before, #sk-container-id-11 div.sk-parallel-item::before {content: \"\";position: absolute;border-left: 1px solid gray;box-sizing: border-box;top: 0;bottom: 0;left: 50%;z-index: -1;}#sk-container-id-11 div.sk-parallel-item {display: flex;flex-direction: column;z-index: 1;position: relative;background-color: white;}#sk-container-id-11 div.sk-parallel-item:first-child::after {align-self: flex-end;width: 50%;}#sk-container-id-11 div.sk-parallel-item:last-child::after {align-self: flex-start;width: 50%;}#sk-container-id-11 div.sk-parallel-item:only-child::after {width: 0;}#sk-container-id-11 div.sk-dashed-wrapped {border: 1px dashed gray;margin: 0 0.4em 0.5em 0.4em;box-sizing: border-box;padding-bottom: 0.4em;background-color: white;}#sk-container-id-11 div.sk-label label {font-family: monospace;font-weight: bold;display: inline-block;line-height: 1.2em;}#sk-container-id-11 div.sk-label-container {text-align: center;}#sk-container-id-11 div.sk-container {/* jupyter's `normalize.less` sets `[hidden] { display: none; }` but bootstrap.min.css set `[hidden] { display: none !important; }` so we also need the `!important` here to be able to override the default hidden behavior on the sphinx rendered scikit-learn.org. See: https://github.com/scikit-learn/scikit-learn/issues/21755 */display: inline-block !important;position: relative;}#sk-container-id-11 div.sk-text-repr-fallback {display: none;}</style><div id=\"sk-container-id-11\" class=\"sk-top-container\"><div class=\"sk-text-repr-fallback\"><pre>AdaBoostClassifier(estimator=DecisionTreeClassifier(max_depth=3),\n",
       "                   learning_rate=0.01, n_estimators=200)</pre><b>In a Jupyter environment, please rerun this cell to show the HTML representation or trust the notebook. <br />On GitHub, the HTML representation is unable to render, please try loading this page with nbviewer.org.</b></div><div class=\"sk-container\" hidden><div class=\"sk-item sk-dashed-wrapped\"><div class=\"sk-label-container\"><div class=\"sk-label sk-toggleable\"><input class=\"sk-toggleable__control sk-hidden--visually\" id=\"sk-estimator-id-25\" type=\"checkbox\" ><label for=\"sk-estimator-id-25\" class=\"sk-toggleable__label sk-toggleable__label-arrow\">AdaBoostClassifier</label><div class=\"sk-toggleable__content\"><pre>AdaBoostClassifier(estimator=DecisionTreeClassifier(max_depth=3),\n",
       "                   learning_rate=0.01, n_estimators=200)</pre></div></div></div><div class=\"sk-parallel\"><div class=\"sk-parallel-item\"><div class=\"sk-item\"><div class=\"sk-label-container\"><div class=\"sk-label sk-toggleable\"><input class=\"sk-toggleable__control sk-hidden--visually\" id=\"sk-estimator-id-26\" type=\"checkbox\" ><label for=\"sk-estimator-id-26\" class=\"sk-toggleable__label sk-toggleable__label-arrow\">estimator: DecisionTreeClassifier</label><div class=\"sk-toggleable__content\"><pre>DecisionTreeClassifier(max_depth=3)</pre></div></div></div><div class=\"sk-serial\"><div class=\"sk-item\"><div class=\"sk-estimator sk-toggleable\"><input class=\"sk-toggleable__control sk-hidden--visually\" id=\"sk-estimator-id-27\" type=\"checkbox\" ><label for=\"sk-estimator-id-27\" class=\"sk-toggleable__label sk-toggleable__label-arrow\">DecisionTreeClassifier</label><div class=\"sk-toggleable__content\"><pre>DecisionTreeClassifier(max_depth=3)</pre></div></div></div></div></div></div></div></div></div></div>"
      ],
      "text/plain": [
       "AdaBoostClassifier(estimator=DecisionTreeClassifier(max_depth=3),\n",
       "                   learning_rate=0.01, n_estimators=200)"
      ]
     },
     "execution_count": 61,
     "metadata": {},
     "output_type": "execute_result"
    }
   ],
   "source": [
    "ada_clf.fit(X_train,y_train)"
   ]
  },
  {
   "cell_type": "code",
   "execution_count": 62,
   "id": "b79d093a-44a7-4c87-a221-386aebe32121",
   "metadata": {},
   "outputs": [],
   "source": [
    "res=ada_clf.predict(X_test)"
   ]
  },
  {
   "cell_type": "code",
   "execution_count": 63,
   "id": "160ea9ab-1a8a-49a0-9dfb-3c78c80089d3",
   "metadata": {},
   "outputs": [
    {
     "name": "stdout",
     "output_type": "stream",
     "text": [
      "Accuracy: 0.8208955223880597\n"
     ]
    }
   ],
   "source": [
    "print(\"Accuracy:\",metrics.accuracy_score(y_test, res))"
   ]
  },
  {
   "cell_type": "code",
   "execution_count": 64,
   "id": "0a87e7dc-6594-40bb-aa43-a317ed73f50b",
   "metadata": {},
   "outputs": [],
   "source": [
    "pre_train=voting_clf.predict(X_train)"
   ]
  },
  {
   "cell_type": "code",
   "execution_count": 65,
   "id": "de91c930-58ae-4796-b4b3-2f844eefa25c",
   "metadata": {},
   "outputs": [
    {
     "name": "stdout",
     "output_type": "stream",
     "text": [
      "Accuracy: 0.9320066334991708\n"
     ]
    }
   ],
   "source": [
    "print(\"Accuracy:\",metrics.accuracy_score(y_train, pre_train))"
   ]
  },
  {
   "cell_type": "code",
   "execution_count": 9,
   "id": "5b14df8c-5c64-46d9-ac67-c6503813dd21",
   "metadata": {},
   "outputs": [],
   "source": [
    "import joblib"
   ]
  },
  {
   "cell_type": "code",
   "execution_count": 10,
   "id": "4fafe263-a10c-49ce-bcef-35f8203864fb",
   "metadata": {},
   "outputs": [],
   "source": [
    "model=joblib.load('votig_clf.pkl')"
   ]
  },
  {
   "cell_type": "code",
   "execution_count": 12,
   "id": "677ca971-80ac-46c6-b10d-d29ac4a2ed8d",
   "metadata": {},
   "outputs": [],
   "source": [
    "res=model.predict(X)"
   ]
  },
  {
   "cell_type": "code",
   "execution_count": 13,
   "id": "43c68459-d5be-4166-8fc6-10c9f9cab177",
   "metadata": {},
   "outputs": [
    {
     "data": {
      "text/plain": [
       "0.9283582089552239"
      ]
     },
     "execution_count": 13,
     "metadata": {},
     "output_type": "execute_result"
    }
   ],
   "source": [
    "metrics.accuracy_score(y,res)"
   ]
  }
 ],
 "metadata": {
  "kernelspec": {
   "display_name": "Python 3 (ipykernel)",
   "language": "python",
   "name": "python3"
  },
  "language_info": {
   "codemirror_mode": {
    "name": "ipython",
    "version": 3
   },
   "file_extension": ".py",
   "mimetype": "text/x-python",
   "name": "python",
   "nbconvert_exporter": "python",
   "pygments_lexer": "ipython3",
   "version": "3.11.7"
  }
 },
 "nbformat": 4,
 "nbformat_minor": 5
}
